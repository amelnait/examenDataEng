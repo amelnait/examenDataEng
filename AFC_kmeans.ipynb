{
  "cells": [
    {
      "cell_type": "code",
      "execution_count": 27,
      "id": "c9eaaaa3",
      "metadata": {
        "id": "c9eaaaa3"
      },
      "outputs": [],
      "source": [
        "from sklearn.datasets import fetch_20newsgroups\n",
        "from sklearn.manifold import TSNE\n",
        "from sklearn.cluster import KMeans\n",
        "from sklearn.metrics.cluster import normalized_mutual_info_score, adjusted_rand_score\n",
        "from sentence_transformers import SentenceTransformer\n",
        "import numpy as np\n",
        "\n",
        "'''\n",
        "Variables:\n",
        "---------\n",
        "\n",
        "corpus : list of documents\n",
        "embeddings : documents embeddings of size NxM (N : number of documents, M : embedding dimension)\n",
        "red_emd : reduced embeddings matrix using dimentionality reduction\n",
        "k : number of clusters\n",
        "labels : documents labels\n",
        "pred : list of clustering predicted clusters\n",
        "\n",
        "''';"
      ]
    },
    {
      "cell_type": "code",
      "execution_count": 21,
      "id": "e77a0f00",
      "metadata": {
        "id": "e77a0f00"
      },
      "outputs": [],
      "source": [
        "def dim_red(mat, p):\n",
        "    '''\n",
        "    Perform dimensionality reduction\n",
        "\n",
        "    Input:\n",
        "    -----\n",
        "        mat : NxM list\n",
        "        p : number of dimensions to keep\n",
        "    Output:\n",
        "    ------\n",
        "        red_mat : NxP list such that p<<m\n",
        "    '''\n",
        "    mat = TSNE(n_components=p, learning_rate='auto',\n",
        "                init='random', perplexity=3).fit_transform(mat)\n",
        "    red_mat = mat[:,:p]\n",
        "\n",
        "    return red_mat"
      ]
    },
    {
      "cell_type": "code",
      "execution_count": 60,
      "id": "9f2ae938",
      "metadata": {
        "id": "9f2ae938"
      },
      "outputs": [],
      "source": [
        "def clust(mat, k):\n",
        "    '''\n",
        "    Perform clustering\n",
        "\n",
        "    Input:\n",
        "    -----\n",
        "        mat : input list\n",
        "        k : number of cluster\n",
        "    Output:\n",
        "    ------\n",
        "        pred : list of predicted labels\n",
        "    '''\n",
        "    model_kMeans_TSNE = KMeans(n_clusters=k, n_init=\"auto\")\n",
        "    result= model_kMeans_TSNE.fit(mat)\n",
        "\n",
        "    pred = result.labels_\n",
        "\n",
        "    return pred"
      ]
    },
    {
      "cell_type": "code",
      "execution_count": 33,
      "id": "a7ca9d2f",
      "metadata": {
        "colab": {
          "base_uri": "https://localhost:8080/"
        },
        "id": "a7ca9d2f",
        "outputId": "df768cec-e12a-48ba-c517-790c8e512707"
      },
      "outputs": [
        {
          "output_type": "stream",
          "name": "stdout",
          "text": [
            "NMI: 0.37 \n",
            "ARI: 0.19\n"
          ]
        }
      ],
      "source": [
        "# import data\n",
        "ng20 = fetch_20newsgroups(subset='test')\n",
        "corpus = ng20.data[:2000]\n",
        "labels = ng20.target[:2000]\n",
        "k = len(set(labels))\n",
        "\n",
        "# embedding\n",
        "model = SentenceTransformer('paraphrase-MiniLM-L6-v2')\n",
        "embeddings = model.encode(corpus)\n",
        "\n",
        "# perform dimentionality reduction (Seulement 3 pou T-SNE)\n",
        "red_emb = dim_red(embeddings, 3)\n",
        "\n",
        "# perform clustering\n",
        "pred = clust(red_emb, k)\n",
        "\n",
        "# evaluate clustering results\n",
        "nmi_score = normalized_mutual_info_score(pred,labels)\n",
        "ari_score = adjusted_rand_score(pred,labels)\n",
        "\n",
        "print(f'NMI: {nmi_score:.2f} \\nARI: {ari_score:.2f}')\n"
      ]
    },
    {
      "cell_type": "markdown",
      "source": [
        "# Statistiques\n",
        "Faire Plusieurs iterations pour voir la stabilité du modele"
      ],
      "metadata": {
        "id": "ZnL_Vj8EngtS"
      },
      "id": "ZnL_Vj8EngtS"
    },
    {
      "cell_type": "code",
      "source": [
        "def stat_model(n_expr, mat, k, labels):\n",
        "  means_nmi_score=0.\n",
        "  varience_nmi_score=0.\n",
        "  means_ari_score=0.\n",
        "  varience_ari_score=0.\n",
        "\n",
        "  results_nmi_score=[]\n",
        "  results_ari_score=[]\n",
        "  for i in range(n_expr):\n",
        "    pred = clust(mat, k)\n",
        "    results_nmi_score = normalized_mutual_info_score(pred,labels)\n",
        "    results_ari_score = adjusted_rand_score(pred,labels)\n",
        "  means_nmi_score = np.mean(results_nmi_score)\n",
        "  means_ari_score = np.mean(results_ari_score)\n",
        "  varience_nmi_score = np.var(results_nmi_score)\n",
        "  varience_ari_score = np.var(results_ari_score)\n",
        "\n",
        "  return means_nmi_score, varience_nmi_score, means_ari_score, varience_ari_score"
      ],
      "metadata": {
        "id": "ZKHX30md1_2h"
      },
      "id": "ZKHX30md1_2h",
      "execution_count": 61,
      "outputs": []
    },
    {
      "cell_type": "code",
      "source": [
        "n_expr=100\n",
        "resultats = stat_model(n_expr, mat = red_emb, k = 20, labels = labels)"
      ],
      "metadata": {
        "id": "v6XbEBag7MAf"
      },
      "id": "v6XbEBag7MAf",
      "execution_count": 62,
      "outputs": []
    },
    {
      "cell_type": "code",
      "source": [
        "print(f\"Moyenne nmi_score sur {n_expr} experience est:  {resultats[0]}\")\n",
        "print(f\"Varience nmi_score sur {n_expr} experience est:  {resultats[1]}\")\n",
        "print(f\"Moyenne ari_score sur {n_expr} experience est:  {resultats[2]}\")\n",
        "print(f\"Moyenne ari_score sur {n_expr} experience est:  {resultats[3]}\")"
      ],
      "metadata": {
        "colab": {
          "base_uri": "https://localhost:8080/"
        },
        "id": "CtyhLiIB7jUp",
        "outputId": "9affa79a-6f2a-4634-e2e9-33eef4fccdf0"
      },
      "id": "CtyhLiIB7jUp",
      "execution_count": 63,
      "outputs": [
        {
          "output_type": "stream",
          "name": "stdout",
          "text": [
            "Moyenne nmi_score sur 100 experience est:  0.35620959304372163\n",
            "Varience nmi_score sur 100 experience est:  0.0\n",
            "Moyenne ari_score sur 100 experience est:  0.17265697203184796\n",
            "Moyenne ari_score sur 100 experience est:  0.0\n"
          ]
        }
      ]
    },
    {
      "cell_type": "code",
      "source": [],
      "metadata": {
        "id": "36mde9U2-o9I"
      },
      "id": "36mde9U2-o9I",
      "execution_count": null,
      "outputs": []
    }
  ],
  "metadata": {
    "kernelspec": {
      "display_name": "Python 3 (ipykernel)",
      "language": "python",
      "name": "python3"
    },
    "language_info": {
      "codemirror_mode": {
        "name": "ipython",
        "version": 3
      },
      "file_extension": ".py",
      "mimetype": "text/x-python",
      "name": "python",
      "nbconvert_exporter": "python",
      "pygments_lexer": "ipython3",
      "version": "3.8.18"
    },
    "colab": {
      "provenance": []
    }
  },
  "nbformat": 4,
  "nbformat_minor": 5
}