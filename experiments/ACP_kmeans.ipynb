{
 "cells": [
  {
   "cell_type": "code",
   "execution_count": 2,
   "id": "c9eaaaa3",
   "metadata": {},
   "outputs": [],
   "source": [
    "from sklearn.datasets import fetch_20newsgroups\n",
    "from sklearn.metrics.cluster import normalized_mutual_info_score, adjusted_rand_score\n",
    "from sentence_transformers import SentenceTransformer\n",
    "import numpy as np\n",
    "import prince\n",
    "import pandas as pd\n",
    "import matplotlib.pyplot as plt\n",
    "from sklearn.cluster import KMeans\n",
    "\n",
    "'''\n",
    "Variables: \n",
    "---------\n",
    "\n",
    "corpus : list of documents\n",
    "embeddings : documents embeddings of size NxM (N : number of documents, M : embedding dimension) \n",
    "red_emd : reduced embeddings matrix using dimentionality reduction\n",
    "k : number of clusters\n",
    "labels : documents labels\n",
    "pred : list of clustering predicted clusters \n",
    "\n",
    "''';"
   ]
  },
  {
   "cell_type": "code",
   "execution_count": 14,
   "id": "e77a0f00",
   "metadata": {},
   "outputs": [],
   "source": [
    "def dim_red(mat, p):\n",
    "    '''\n",
    "    Perform dimensionality reduction\n",
    "\n",
    "    Input:\n",
    "    -----\n",
    "        mat : NxM list \n",
    "        p : number of dimensions to keep \n",
    "    Output:\n",
    "    ------\n",
    "        red_mat : NxP list such that p<<m\n",
    "    '''\n",
    "    pca = prince.PCA(n_components=20)\n",
    "    pca= pca.fit(pd.DataFrame(mat))\n",
    "    reduction_dim = pca.transform(pd.DataFrame(mat))\n",
    "    reduction_dim = reduction_dim.to_numpy()\n",
    "    \n",
    "    return reduction_dim"
   ]
  },
  {
   "cell_type": "code",
   "execution_count": 9,
   "id": "9f2ae938",
   "metadata": {},
   "outputs": [],
   "source": [
    "def clust(mat, k):\n",
    "    '''\n",
    "    Perform clustering\n",
    "\n",
    "    Input:\n",
    "    -----\n",
    "        mat : input list \n",
    "        k : number of cluster\n",
    "    Output:\n",
    "    ------\n",
    "        pred : list of predicted labels\n",
    "    '''\n",
    "    # Create a KMeans instance with k clusters: model\n",
    "    model = KMeans(n_clusters=k)\n",
    "    \n",
    "    # Fit model to samples\n",
    "    result = model.fit(mat)\n",
    "\n",
    "    return result.labels_"
   ]
  },
  {
   "cell_type": "code",
   "execution_count": 20,
   "metadata": {},
   "outputs": [],
   "source": [
    "def stat_model(n_expr, mat, k, labels):\n",
    "  means_nmi_score=0.\n",
    "  varience_nmi_score=0.\n",
    "  means_ari_score=0.\n",
    "  varience_ari_score=0.\n",
    "\n",
    "  results_nmi_score=[]\n",
    "  results_ari_score=[]\n",
    "  for i in range(n_expr):\n",
    "    pred = clust(mat, k)\n",
    "    results_nmi_score = normalized_mutual_info_score(pred,labels)\n",
    "    results_ari_score = adjusted_rand_score(pred,labels)\n",
    "  means_nmi_score = np.mean(results_nmi_score)\n",
    "  means_ari_score = np.mean(results_ari_score)\n",
    "  varience_nmi_score = np.std(results_nmi_score)\n",
    "  varience_ari_score = np.std(results_ari_score)\n",
    "\n",
    "  return means_nmi_score, varience_nmi_score, means_ari_score, varience_ari_score"
   ]
  },
  {
   "cell_type": "code",
   "execution_count": 5,
   "id": "a7ca9d2f",
   "metadata": {},
   "outputs": [
    {
     "name": "stdout",
     "output_type": "stream",
     "text": [
      "NMI: 0.03 \n",
      "ARI: -0.00\n"
     ]
    }
   ],
   "source": [
    "# import data\n",
    "ng20 = fetch_20newsgroups(subset='test')\n",
    "corpus = ng20.data[:2000]\n",
    "labels = ng20.target[:2000]\n",
    "k = len(set(labels))\n",
    "\n",
    "# embedding\n",
    "model = SentenceTransformer('paraphrase-MiniLM-L6-v2')\n",
    "embeddings = model.encode(corpus)"
   ]
  },
  {
   "cell_type": "code",
   "execution_count": 15,
   "metadata": {},
   "outputs": [
    {
     "name": "stdout",
     "output_type": "stream",
     "text": [
      "NMI: 0.40 \n",
      "ARI: 0.23\n"
     ]
    }
   ],
   "source": [
    "# perform dimentionality reduction\n",
    "red_emb = dim_red(embeddings, 20)\n",
    "\n",
    "# perform clustering\n",
    "pred = clust(red_emb, k)\n",
    "\n",
    "# evaluate clustering results\n",
    "nmi_score = normalized_mutual_info_score(pred,labels)\n",
    "ari_score = adjusted_rand_score(pred,labels)\n",
    "\n",
    "print(f'NMI: {nmi_score:.2f} \\nARI: {ari_score:.2f}')"
   ]
  },
  {
   "cell_type": "code",
   "execution_count": 21,
   "metadata": {},
   "outputs": [],
   "source": [
    "n_expr=100\n",
    "resultats = stat_model(n_expr, mat = red_emb, k = 20, labels = labels)"
   ]
  },
  {
   "cell_type": "code",
   "execution_count": 23,
   "metadata": {},
   "outputs": [
    {
     "name": "stdout",
     "output_type": "stream",
     "text": [
      "Moyenne nmi_score sur 100 experience est:  0.4154972492750745\n",
      "Varience nmi_score sur 100 experience est:  0.0\n",
      "Moyenne ari_score sur 100 experience est:  0.23239405767073365\n",
      "Moyenne ari_score sur 100 experience est:  0.0\n"
     ]
    }
   ],
   "source": [
    "print(f\"Moyenne nmi_score sur {n_expr} experience est:  {resultats[0]}\")\n",
    "print(f\"Varience nmi_score sur {n_expr} experience est:  {resultats[1]}\")\n",
    "print(f\"Moyenne ari_score sur {n_expr} experience est:  {resultats[2]}\")\n",
    "print(f\"Moyenne ari_score sur {n_expr} experience est:  {resultats[3]}\")"
   ]
  },
  {
   "cell_type": "code",
   "execution_count": null,
   "metadata": {},
   "outputs": [],
   "source": []
  }
 ],
 "metadata": {
  "kernelspec": {
   "display_name": "Python 3 (ipykernel)",
   "language": "python",
   "name": "python3"
  },
  "language_info": {
   "codemirror_mode": {
    "name": "ipython",
    "version": 3
   },
   "file_extension": ".py",
   "mimetype": "text/x-python",
   "name": "python",
   "nbconvert_exporter": "python",
   "pygments_lexer": "ipython3",
   "version": "3.10.3"
  }
 },
 "nbformat": 4,
 "nbformat_minor": 5
}
